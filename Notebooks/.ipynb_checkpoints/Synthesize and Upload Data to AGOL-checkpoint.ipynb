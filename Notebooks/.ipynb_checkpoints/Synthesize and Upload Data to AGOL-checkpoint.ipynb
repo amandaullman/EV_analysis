{
 "cells": [
  {
   "cell_type": "code",
   "execution_count": 1,
   "metadata": {},
   "outputs": [
    {
     "name": "stderr",
     "output_type": "stream",
     "text": [
      "/opt/conda/lib/python3.7/site-packages/arcgis/features/_data/geodataset/utils.py:16: FutureWarning: The pandas.datetime class is deprecated and will be removed from pandas in a future version. Import from datetime module instead.\n",
      "  pd.datetime,\n"
     ]
    }
   ],
   "source": [
    "from arcgis import GIS\n",
    "import pandas as pd\n",
    "from arcgis.features import GeoAccessor"
   ]
  },
  {
   "cell_type": "code",
   "execution_count": 2,
   "metadata": {},
   "outputs": [
    {
     "name": "stdout",
     "output_type": "stream",
     "text": [
      "Enter password: ········\n"
     ]
    }
   ],
   "source": [
    "gis = GIS(url = 'https://NSOE.maps.arcgis.com', username = 'anu4_790')"
   ]
  },
  {
   "cell_type": "code",
   "execution_count": 3,
   "metadata": {},
   "outputs": [],
   "source": [
    "sdf_Exit = GeoAccessor.from_featureclass('../Data/MJBA/Exits.shp')\n",
    "sdf_flood = GeoAccessor.from_featureclass('../Data/processed/exits_flood.shp')\n",
    "sdf_EucDist = GeoAccessor.from_featureclass('../Data/processed/Exits_distance_to_DCFC.shp')\n",
    "sdf_AmenityCount=GeoAccessor.from_featureclass('../Data/processed/exits_amenities.shp')\n",
    "sdf_DriveDist = GeoAccessor.from_featureclass('../Data/processed/exits_distances.shp')\n",
    "sdf_DistToPower = GeoAccessor.from_featureclass('../Data/processed/Exits_distance_to_Power.shp')"
   ]
  },
  {
   "cell_type": "code",
   "execution_count": 4,
   "metadata": {},
   "outputs": [],
   "source": [
    "#Remove extraneous columns \n",
    "sdf_Exit = sdf_Exit[['FID', 'Longitude', 'Latitude', 'County', 'SHAPE']]\n",
    "sdf_flood = sdf_flood[['FID', 'Flood_cat']]\n",
    "sdf_EucDist = sdf_EucDist[['FID', 'Dist_to_DC']]\n",
    "sdf_AmenityCount = sdf_AmenityCount[['FID', 'amenity_n']]\n",
    "sdf_DriveDist = sdf_DriveDist[['FID', 'distance']]\n",
    "sdf_DistToPower = sdf_DistToPower[['FID', 'Dist_to_Pw']]"
   ]
  },
  {
   "cell_type": "code",
   "execution_count": 5,
   "metadata": {},
   "outputs": [],
   "source": [
    "#Set index to FID\n",
    "sdf_Exit.set_index(['FID'],inplace=True)\n",
    "sdf_flood.set_index(['FID'],inplace=True)\n",
    "sdf_EucDist.set_index(['FID'],inplace=True)\n",
    "sdf_AmenityCount.set_index(['FID'],inplace=True)\n",
    "sdf_DriveDist.set_index(['FID'],inplace=True)\n",
    "sdf_DistToPower.set_index(['FID'],inplace=True)"
   ]
  },
  {
   "cell_type": "code",
   "execution_count": 6,
   "metadata": {},
   "outputs": [],
   "source": [
    "#Join Data to a master geodataframe\n",
    "sdf_Master = pd.merge(left=sdf_Exit,right=sdf_flood,how='left',left_index=True, right_index=True)\n",
    "sdf_Master = pd.merge(left=sdf_Master,right=sdf_EucDist,how='left',left_index=True, right_index=True)\n",
    "sdf_Master = pd.merge(left=sdf_Master,right=sdf_AmenityCount,how='left',left_index=True, right_index=True)\n",
    "sdf_Master = pd.merge(left=sdf_Master,right=sdf_DriveDist,how='left',left_index=True, right_index=True)\n",
    "sdf_Master = pd.merge(left=sdf_Master,right=sdf_DistToPower,how='left',left_index=True, right_index=True)\n"
   ]
  },
  {
   "cell_type": "code",
   "execution_count": 7,
   "metadata": {
    "scrolled": true
   },
   "outputs": [],
   "source": [
    "#Fix Euc Dist - change from meters to miles\n",
    "sdf_Master['Dist_to_DC'] = sdf_Master['Dist_to_DC']/1609.34"
   ]
  },
  {
   "cell_type": "code",
   "execution_count": 8,
   "metadata": {},
   "outputs": [
    {
     "data": {
      "text/html": [
       "<div>\n",
       "<style scoped>\n",
       "    .dataframe tbody tr th:only-of-type {\n",
       "        vertical-align: middle;\n",
       "    }\n",
       "\n",
       "    .dataframe tbody tr th {\n",
       "        vertical-align: top;\n",
       "    }\n",
       "\n",
       "    .dataframe thead th {\n",
       "        text-align: right;\n",
       "    }\n",
       "</style>\n",
       "<table border=\"1\" class=\"dataframe\">\n",
       "  <thead>\n",
       "    <tr style=\"text-align: right;\">\n",
       "      <th></th>\n",
       "      <th>Longitude</th>\n",
       "      <th>Latitude</th>\n",
       "      <th>County</th>\n",
       "      <th>SHAPE</th>\n",
       "      <th>Flood_cat</th>\n",
       "      <th>Dist_to_DC</th>\n",
       "      <th>amenity_n</th>\n",
       "      <th>distance</th>\n",
       "      <th>Dist_to_Pw</th>\n",
       "    </tr>\n",
       "    <tr>\n",
       "      <th>FID</th>\n",
       "      <th></th>\n",
       "      <th></th>\n",
       "      <th></th>\n",
       "      <th></th>\n",
       "      <th></th>\n",
       "      <th></th>\n",
       "      <th></th>\n",
       "      <th></th>\n",
       "      <th></th>\n",
       "    </tr>\n",
       "  </thead>\n",
       "  <tbody>\n",
       "    <tr>\n",
       "      <th>7059</th>\n",
       "      <td>-84.314304</td>\n",
       "      <td>35.019492</td>\n",
       "      <td>Cherokee</td>\n",
       "      <td>{'x': -84.31430368976345, 'y': 35.019491849669...</td>\n",
       "      <td>Area of Minimal Flood Hazard</td>\n",
       "      <td>103.022794</td>\n",
       "      <td>0</td>\n",
       "      <td>NaN</td>\n",
       "      <td>5.987276</td>\n",
       "    </tr>\n",
       "    <tr>\n",
       "      <th>7060</th>\n",
       "      <td>-84.311492</td>\n",
       "      <td>35.014933</td>\n",
       "      <td>Cherokee</td>\n",
       "      <td>{'x': -84.31149165991212, 'y': 35.014933379571...</td>\n",
       "      <td>Area of Minimal Flood Hazard</td>\n",
       "      <td>102.983699</td>\n",
       "      <td>0</td>\n",
       "      <td>NaN</td>\n",
       "      <td>5.879956</td>\n",
       "    </tr>\n",
       "    <tr>\n",
       "      <th>7061</th>\n",
       "      <td>-84.295528</td>\n",
       "      <td>35.013561</td>\n",
       "      <td>Cherokee</td>\n",
       "      <td>{'x': -84.29552778977563, 'y': 35.013560589649...</td>\n",
       "      <td>Area of Minimal Flood Hazard</td>\n",
       "      <td>102.169982</td>\n",
       "      <td>0</td>\n",
       "      <td>NaN</td>\n",
       "      <td>5.014686</td>\n",
       "    </tr>\n",
       "    <tr>\n",
       "      <th>7062</th>\n",
       "      <td>-84.280291</td>\n",
       "      <td>35.012880</td>\n",
       "      <td>Cherokee</td>\n",
       "      <td>{'x': -84.28029090010494, 'y': 35.012879950349...</td>\n",
       "      <td>Area of Minimal Flood Hazard</td>\n",
       "      <td>101.379188</td>\n",
       "      <td>0</td>\n",
       "      <td>NaN</td>\n",
       "      <td>4.193707</td>\n",
       "    </tr>\n",
       "    <tr>\n",
       "      <th>7063</th>\n",
       "      <td>-84.275190</td>\n",
       "      <td>35.017816</td>\n",
       "      <td>Cherokee</td>\n",
       "      <td>{'x': -84.27519011992803, 'y': 35.017816120417...</td>\n",
       "      <td>Area of Minimal Flood Hazard</td>\n",
       "      <td>100.986949</td>\n",
       "      <td>0</td>\n",
       "      <td>NaN</td>\n",
       "      <td>3.823759</td>\n",
       "    </tr>\n",
       "    <tr>\n",
       "      <th>...</th>\n",
       "      <td>...</td>\n",
       "      <td>...</td>\n",
       "      <td>...</td>\n",
       "      <td>...</td>\n",
       "      <td>...</td>\n",
       "      <td>...</td>\n",
       "      <td>...</td>\n",
       "      <td>...</td>\n",
       "      <td>...</td>\n",
       "    </tr>\n",
       "    <tr>\n",
       "      <th>8232</th>\n",
       "      <td>-78.518206</td>\n",
       "      <td>35.389884</td>\n",
       "      <td>Johnston</td>\n",
       "      <td>{'x': -78.51820576978042, 'y': 35.389883880137...</td>\n",
       "      <td>Area of Minimal Flood Hazard</td>\n",
       "      <td>14.067219</td>\n",
       "      <td>0</td>\n",
       "      <td>30.408900</td>\n",
       "      <td>1.610386</td>\n",
       "    </tr>\n",
       "    <tr>\n",
       "      <th>8233</th>\n",
       "      <td>-78.289842</td>\n",
       "      <td>35.519484</td>\n",
       "      <td>Johnston</td>\n",
       "      <td>{'x': -78.28984227969744, 'y': 35.519484229613...</td>\n",
       "      <td>Area of Minimal Flood Hazard</td>\n",
       "      <td>1.623417</td>\n",
       "      <td>6</td>\n",
       "      <td>1.785973</td>\n",
       "      <td>0.400149</td>\n",
       "    </tr>\n",
       "    <tr>\n",
       "      <th>8234</th>\n",
       "      <td>-80.181938</td>\n",
       "      <td>35.809700</td>\n",
       "      <td>Davidson</td>\n",
       "      <td>{'x': -80.18193820998039, 'y': 35.809699620441...</td>\n",
       "      <td>Area of Minimal Flood Hazard</td>\n",
       "      <td>20.637721</td>\n",
       "      <td>1</td>\n",
       "      <td>27.472599</td>\n",
       "      <td>2.379980</td>\n",
       "    </tr>\n",
       "    <tr>\n",
       "      <th>8235</th>\n",
       "      <td>-80.831572</td>\n",
       "      <td>35.814640</td>\n",
       "      <td>Iredell</td>\n",
       "      <td>{'x': -80.83157234019131, 'y': 35.814640219670...</td>\n",
       "      <td>Area of Minimal Flood Hazard</td>\n",
       "      <td>19.313526</td>\n",
       "      <td>0</td>\n",
       "      <td>30.291611</td>\n",
       "      <td>1.594957</td>\n",
       "    </tr>\n",
       "    <tr>\n",
       "      <th>8236</th>\n",
       "      <td>-82.440502</td>\n",
       "      <td>35.340835</td>\n",
       "      <td>Henderson</td>\n",
       "      <td>{'x': -82.4405023701882, 'y': 35.3408348197711...</td>\n",
       "      <td>Area of Minimal Flood Hazard</td>\n",
       "      <td>9.649541</td>\n",
       "      <td>6</td>\n",
       "      <td>11.181730</td>\n",
       "      <td>1.595018</td>\n",
       "    </tr>\n",
       "  </tbody>\n",
       "</table>\n",
       "<p>1178 rows × 9 columns</p>\n",
       "</div>"
      ],
      "text/plain": [
       "      Longitude   Latitude     County  \\\n",
       "FID                                     \n",
       "7059 -84.314304  35.019492   Cherokee   \n",
       "7060 -84.311492  35.014933   Cherokee   \n",
       "7061 -84.295528  35.013561   Cherokee   \n",
       "7062 -84.280291  35.012880   Cherokee   \n",
       "7063 -84.275190  35.017816   Cherokee   \n",
       "...         ...        ...        ...   \n",
       "8232 -78.518206  35.389884   Johnston   \n",
       "8233 -78.289842  35.519484   Johnston   \n",
       "8234 -80.181938  35.809700   Davidson   \n",
       "8235 -80.831572  35.814640    Iredell   \n",
       "8236 -82.440502  35.340835  Henderson   \n",
       "\n",
       "                                                  SHAPE  \\\n",
       "FID                                                       \n",
       "7059  {'x': -84.31430368976345, 'y': 35.019491849669...   \n",
       "7060  {'x': -84.31149165991212, 'y': 35.014933379571...   \n",
       "7061  {'x': -84.29552778977563, 'y': 35.013560589649...   \n",
       "7062  {'x': -84.28029090010494, 'y': 35.012879950349...   \n",
       "7063  {'x': -84.27519011992803, 'y': 35.017816120417...   \n",
       "...                                                 ...   \n",
       "8232  {'x': -78.51820576978042, 'y': 35.389883880137...   \n",
       "8233  {'x': -78.28984227969744, 'y': 35.519484229613...   \n",
       "8234  {'x': -80.18193820998039, 'y': 35.809699620441...   \n",
       "8235  {'x': -80.83157234019131, 'y': 35.814640219670...   \n",
       "8236  {'x': -82.4405023701882, 'y': 35.3408348197711...   \n",
       "\n",
       "                         Flood_cat  Dist_to_DC  amenity_n   distance  \\\n",
       "FID                                                                    \n",
       "7059  Area of Minimal Flood Hazard  103.022794          0        NaN   \n",
       "7060  Area of Minimal Flood Hazard  102.983699          0        NaN   \n",
       "7061  Area of Minimal Flood Hazard  102.169982          0        NaN   \n",
       "7062  Area of Minimal Flood Hazard  101.379188          0        NaN   \n",
       "7063  Area of Minimal Flood Hazard  100.986949          0        NaN   \n",
       "...                            ...         ...        ...        ...   \n",
       "8232  Area of Minimal Flood Hazard   14.067219          0  30.408900   \n",
       "8233  Area of Minimal Flood Hazard    1.623417          6   1.785973   \n",
       "8234  Area of Minimal Flood Hazard   20.637721          1  27.472599   \n",
       "8235  Area of Minimal Flood Hazard   19.313526          0  30.291611   \n",
       "8236  Area of Minimal Flood Hazard    9.649541          6  11.181730   \n",
       "\n",
       "      Dist_to_Pw  \n",
       "FID               \n",
       "7059    5.987276  \n",
       "7060    5.879956  \n",
       "7061    5.014686  \n",
       "7062    4.193707  \n",
       "7063    3.823759  \n",
       "...          ...  \n",
       "8232    1.610386  \n",
       "8233    0.400149  \n",
       "8234    2.379980  \n",
       "8235    1.594957  \n",
       "8236    1.595018  \n",
       "\n",
       "[1178 rows x 9 columns]"
      ]
     },
     "execution_count": 8,
     "metadata": {},
     "output_type": "execute_result"
    }
   ],
   "source": [
    "sdf_Master"
   ]
  },
  {
   "cell_type": "code",
   "execution_count": 9,
   "metadata": {},
   "outputs": [
    {
     "data": {
      "text/plain": [
       "'../Data/processed/Final_exits.shp'"
      ]
     },
     "execution_count": 9,
     "metadata": {},
     "output_type": "execute_result"
    }
   ],
   "source": [
    "sdf_Master.spatial.to_featureclass('../Data/processed/Final_exits.shp')"
   ]
  },
  {
   "cell_type": "code",
   "execution_count": 10,
   "metadata": {},
   "outputs": [],
   "source": [
    "#Import NREL CSV as dataframe\n",
    "DCFC_df = pd.read_csv('../Data/NREL/DCFC.csv')"
   ]
  },
  {
   "cell_type": "code",
   "execution_count": 11,
   "metadata": {},
   "outputs": [],
   "source": [
    "#Convert dataframe to arcgis spatial dataframe\n",
    "DCFC_sdf = GeoAccessor.from_xy(DCFC_df, x_column='longitude',y_column='latitude',sr=4326)"
   ]
  },
  {
   "cell_type": "code",
   "execution_count": 12,
   "metadata": {},
   "outputs": [],
   "source": [
    "#Convert to feature layer\n",
    "DCFC_lyr = DCFC_sdf.spatial.to_featurelayer(title = \"NREL DC Fast Charger Site\",\n",
    "                                   tags=\"ENV790, EV Charger, NREL\")"
   ]
  },
  {
   "cell_type": "code",
   "execution_count": 13,
   "metadata": {},
   "outputs": [
    {
     "data": {
      "text/html": [
       "<div class=\"item_container\" style=\"height: auto; overflow: hidden; border: 1px solid #cfcfcf; border-radius: 2px; background: #f6fafa; line-height: 1.21429em; padding: 10px;\">\n",
       "                    <div class=\"item_left\" style=\"width: 210px; float: left;\">\n",
       "                       <a href='https://NSOE.maps.arcgis.com/home/item.html?id=099769bfecb245529ed5f79fb987ed95' target='_blank'>\n",
       "                        <img src='http://static.arcgis.com/images/desktopapp.png' class=\"itemThumbnail\">\n",
       "                       </a>\n",
       "                    </div>\n",
       "\n",
       "                    <div class=\"item_right\"     style=\"float: none; width: auto; overflow: hidden;\">\n",
       "                        <a href='https://NSOE.maps.arcgis.com/home/item.html?id=099769bfecb245529ed5f79fb987ed95' target='_blank'><b>NREL DC Fast Charger Site</b>\n",
       "                        </a>\n",
       "                        <br/><img src='https://NSOE.maps.arcgis.com/home/js/jsapi/esri/css/images/item_type_icons/featureshosted16.png' style=\"vertical-align:middle;\">Feature Layer Collection by anu4_790\n",
       "                        <br/>Last Modified: April 30, 2020\n",
       "                        <br/>0 comments, 0 views\n",
       "                    </div>\n",
       "                </div>\n",
       "                "
      ],
      "text/plain": [
       "<Item title:\"NREL DC Fast Charger Site\" type:Feature Layer Collection owner:anu4_790>"
      ]
     },
     "execution_count": 13,
     "metadata": {},
     "output_type": "execute_result"
    }
   ],
   "source": [
    "DCFC_lyr"
   ]
  },
  {
   "cell_type": "code",
   "execution_count": 14,
   "metadata": {},
   "outputs": [
    {
     "data": {
      "text/plain": [
       "True"
      ]
     },
     "execution_count": 14,
     "metadata": {},
     "output_type": "execute_result"
    }
   ],
   "source": [
    "#Construct dictionary of feature layer properties\n",
    "featLayer_properties = {\n",
    "    'snippet':\"NREL DC Fast Charging site. Extracted and subset via the NREL API\",\n",
    "    'summary': \"These data were extracted from the NREL API, subset using the following criteria\"\n",
    "}\n",
    "\n",
    "#Apply the changes\n",
    "DCFC_lyr.update(featLayer_properties)"
   ]
  },
  {
   "cell_type": "code",
   "execution_count": 15,
   "metadata": {},
   "outputs": [
    {
     "data": {
      "text/plain": [
       "{'results': [{'itemId': '099769bfecb245529ed5f79fb987ed95',\n",
       "   'success': True,\n",
       "   'notSharedWith': []}]}"
      ]
     },
     "execution_count": 15,
     "metadata": {},
     "output_type": "execute_result"
    }
   ],
   "source": [
    "DCFC_lyr.share(org=True)"
   ]
  },
  {
   "cell_type": "code",
   "execution_count": 16,
   "metadata": {},
   "outputs": [
    {
     "data": {
      "text/html": [
       "<div class=\"item_container\" style=\"height: auto; overflow: hidden; border: 1px solid #cfcfcf; border-radius: 2px; background: #f6fafa; line-height: 1.21429em; padding: 10px;\">\n",
       "                    <div class=\"item_left\" style=\"width: 210px; float: left;\">\n",
       "                       <a href='https://NSOE.maps.arcgis.com/home/item.html?id=d975e5a011ba43e9858d4c644b856a07' target='_blank'>\n",
       "                        <img src='http://static.arcgis.com/images/desktopapp.png' class=\"itemThumbnail\">\n",
       "                       </a>\n",
       "                    </div>\n",
       "\n",
       "                    <div class=\"item_right\"     style=\"float: none; width: auto; overflow: hidden;\">\n",
       "                        <a href='https://NSOE.maps.arcgis.com/home/item.html?id=d975e5a011ba43e9858d4c644b856a07' target='_blank'><b>Candidate Charger Sites</b>\n",
       "                        </a>\n",
       "                        <br/><img src='https://NSOE.maps.arcgis.com/home/js/jsapi/esri/css/images/item_type_icons/featureshosted16.png' style=\"vertical-align:middle;\">Feature Layer Collection by anu4_790\n",
       "                        <br/>Last Modified: April 30, 2020\n",
       "                        <br/>0 comments, 0 views\n",
       "                    </div>\n",
       "                </div>\n",
       "                "
      ],
      "text/plain": [
       "<Item title:\"Candidate Charger Sites\" type:Feature Layer Collection owner:anu4_790>"
      ]
     },
     "execution_count": 16,
     "metadata": {},
     "output_type": "execute_result"
    }
   ],
   "source": [
    "sdf_Master.spatial.to_featurelayer(title=\"Candidate Charger Sites\",\n",
    "                                  tags = \"ENV790, EV Charger, NREL\")"
   ]
  },
  {
   "cell_type": "code",
   "execution_count": 17,
   "metadata": {},
   "outputs": [],
   "source": [
    "#Import Amenities as dataframe\n",
    "sdf_Amenities = GeoAccessor.from_featureclass('../Data/OSM/OSM_amenities.shp')\n"
   ]
  },
  {
   "cell_type": "code",
   "execution_count": 18,
   "metadata": {},
   "outputs": [
    {
     "data": {
      "text/html": [
       "<div class=\"item_container\" style=\"height: auto; overflow: hidden; border: 1px solid #cfcfcf; border-radius: 2px; background: #f6fafa; line-height: 1.21429em; padding: 10px;\">\n",
       "                    <div class=\"item_left\" style=\"width: 210px; float: left;\">\n",
       "                       <a href='https://NSOE.maps.arcgis.com/home/item.html?id=ec172dcbf70145c0a83e7c51a068c9ed' target='_blank'>\n",
       "                        <img src='http://static.arcgis.com/images/desktopapp.png' class=\"itemThumbnail\">\n",
       "                       </a>\n",
       "                    </div>\n",
       "\n",
       "                    <div class=\"item_right\"     style=\"float: none; width: auto; overflow: hidden;\">\n",
       "                        <a href='https://NSOE.maps.arcgis.com/home/item.html?id=ec172dcbf70145c0a83e7c51a068c9ed' target='_blank'><b>OSM Amenities</b>\n",
       "                        </a>\n",
       "                        <br/><img src='https://NSOE.maps.arcgis.com/home/js/jsapi/esri/css/images/item_type_icons/featureshosted16.png' style=\"vertical-align:middle;\">Feature Layer Collection by anu4_790\n",
       "                        <br/>Last Modified: April 30, 2020\n",
       "                        <br/>0 comments, 0 views\n",
       "                    </div>\n",
       "                </div>\n",
       "                "
      ],
      "text/plain": [
       "<Item title:\"OSM Amenities\" type:Feature Layer Collection owner:anu4_790>"
      ]
     },
     "execution_count": 18,
     "metadata": {},
     "output_type": "execute_result"
    }
   ],
   "source": [
    "sdf_Amenities.spatial.to_featurelayer(title=\"OSM Amenities\",\n",
    "                                  tags = \"ENV790, EV Charger, NREL\")"
   ]
  },
  {
   "cell_type": "code",
   "execution_count": 22,
   "metadata": {},
   "outputs": [],
   "source": [
    "sdf_Substations = GeoAccessor.from_featureclass('../Data/HIFLD/substations.shp')"
   ]
  },
  {
   "cell_type": "code",
   "execution_count": 23,
   "metadata": {},
   "outputs": [],
   "source": [
    "sdf_Substations=sdf_Substations[['index','ID','SHAPE', 'LATITUDE','LONGITUDE']]"
   ]
  },
  {
   "cell_type": "code",
   "execution_count": 24,
   "metadata": {},
   "outputs": [
    {
     "ename": "Exception",
     "evalue": "Job failed.",
     "output_type": "error",
     "traceback": [
      "\u001b[0;31m\u001b[0m",
      "\u001b[0;31mException\u001b[0mTraceback (most recent call last)",
      "\u001b[0;32m<ipython-input-24-a2b5ce919a75>\u001b[0m in \u001b[0;36m<module>\u001b[0;34m\u001b[0m\n\u001b[1;32m      1\u001b[0m sdf_Substations.spatial.to_featurelayer(title=\"Substations\",\n\u001b[0;32m----> 2\u001b[0;31m                                   tags = \"ENV790, EV Charger, NREL\")\n\u001b[0m",
      "\u001b[0;32m/opt/conda/lib/python3.7/site-packages/arcgis/features/geo/_accessor.py\u001b[0m in \u001b[0;36mto_featurelayer\u001b[0;34m(self, title, gis, tags)\u001b[0m\n\u001b[1;32m   1976\u001b[0m                 \u001b[0;32mraise\u001b[0m \u001b[0mValueError\u001b[0m\u001b[0;34m(\u001b[0m\u001b[0;34m\"GIS object must be provided\"\u001b[0m\u001b[0;34m)\u001b[0m\u001b[0;34m\u001b[0m\u001b[0;34m\u001b[0m\u001b[0m\n\u001b[1;32m   1977\u001b[0m         \u001b[0mcontent\u001b[0m \u001b[0;34m=\u001b[0m \u001b[0mgis\u001b[0m\u001b[0;34m.\u001b[0m\u001b[0mcontent\u001b[0m\u001b[0;34m\u001b[0m\u001b[0;34m\u001b[0m\u001b[0m\n\u001b[0;32m-> 1978\u001b[0;31m         \u001b[0;32mreturn\u001b[0m \u001b[0mcontent\u001b[0m\u001b[0;34m.\u001b[0m\u001b[0mimport_data\u001b[0m\u001b[0;34m(\u001b[0m\u001b[0mself\u001b[0m\u001b[0;34m.\u001b[0m\u001b[0m_data\u001b[0m\u001b[0;34m,\u001b[0m \u001b[0mtitle\u001b[0m\u001b[0;34m=\u001b[0m\u001b[0mtitle\u001b[0m\u001b[0;34m,\u001b[0m \u001b[0mtags\u001b[0m\u001b[0;34m=\u001b[0m\u001b[0mtags\u001b[0m\u001b[0;34m)\u001b[0m\u001b[0;34m\u001b[0m\u001b[0;34m\u001b[0m\u001b[0m\n\u001b[0m\u001b[1;32m   1979\u001b[0m     \u001b[0;31m# ----------------------------------------------------------------------\u001b[0m\u001b[0;34m\u001b[0m\u001b[0;34m\u001b[0m\u001b[0;34m\u001b[0m\u001b[0m\n\u001b[1;32m   1980\u001b[0m     \u001b[0;34m@\u001b[0m\u001b[0mstaticmethod\u001b[0m\u001b[0;34m\u001b[0m\u001b[0;34m\u001b[0m\u001b[0m\n",
      "\u001b[0;32m/opt/conda/lib/python3.7/site-packages/arcgis/gis/__init__.py\u001b[0m in \u001b[0;36mimport_data\u001b[0;34m(self, df, address_fields, **kwargs)\u001b[0m\n\u001b[1;32m   4238\u001b[0m                 \u001b[0;32mif\u001b[0m \u001b[0mtarget_sr\u001b[0m \u001b[0;32mis\u001b[0m \u001b[0;32mnot\u001b[0m \u001b[0;32mNone\u001b[0m\u001b[0;34m:\u001b[0m\u001b[0;34m\u001b[0m\u001b[0;34m\u001b[0m\u001b[0m\n\u001b[1;32m   4239\u001b[0m                     \u001b[0mpublish_parameters\u001b[0m\u001b[0;34m[\u001b[0m\u001b[0;34m'targetSR'\u001b[0m\u001b[0;34m]\u001b[0m \u001b[0;34m=\u001b[0m \u001b[0;34m{\u001b[0m \u001b[0;34m'wkid'\u001b[0m \u001b[0;34m:\u001b[0m \u001b[0mtarget_sr\u001b[0m \u001b[0;34m}\u001b[0m\u001b[0;34m\u001b[0m\u001b[0;34m\u001b[0m\u001b[0m\n\u001b[0;32m-> 4240\u001b[0;31m                 \u001b[0;32mreturn\u001b[0m \u001b[0mitem\u001b[0m\u001b[0;34m.\u001b[0m\u001b[0mpublish\u001b[0m\u001b[0;34m(\u001b[0m\u001b[0mpublish_parameters\u001b[0m\u001b[0;34m=\u001b[0m\u001b[0mpublish_parameters\u001b[0m\u001b[0;34m)\u001b[0m\u001b[0;34m\u001b[0m\u001b[0;34m\u001b[0m\u001b[0m\n\u001b[0m\u001b[1;32m   4241\u001b[0m             \u001b[0;32mreturn\u001b[0m\u001b[0;34m\u001b[0m\u001b[0;34m\u001b[0m\u001b[0m\n\u001b[1;32m   4242\u001b[0m         \u001b[0;32melif\u001b[0m \u001b[0misinstance\u001b[0m\u001b[0;34m(\u001b[0m\u001b[0mdf\u001b[0m\u001b[0;34m,\u001b[0m \u001b[0mpd\u001b[0m\u001b[0;34m.\u001b[0m\u001b[0mDataFrame\u001b[0m\u001b[0;34m)\u001b[0m \u001b[0;32mand\u001b[0m\u001b[0;31m \u001b[0m\u001b[0;31m\\\u001b[0m\u001b[0;34m\u001b[0m\u001b[0;34m\u001b[0m\u001b[0m\n",
      "\u001b[0;32m/opt/conda/lib/python3.7/site-packages/arcgis/gis/__init__.py\u001b[0m in \u001b[0;36mpublish\u001b[0;34m(self, publish_parameters, address_fields, output_type, overwrite, file_type, build_initial_cache)\u001b[0m\n\u001b[1;32m   8778\u001b[0m             \u001b[0;32mreturn\u001b[0m \u001b[0mItem\u001b[0m\u001b[0;34m(\u001b[0m\u001b[0mself\u001b[0m\u001b[0;34m.\u001b[0m\u001b[0m_gis\u001b[0m\u001b[0;34m,\u001b[0m \u001b[0mret\u001b[0m\u001b[0;34m[\u001b[0m\u001b[0;36m0\u001b[0m\u001b[0;34m]\u001b[0m\u001b[0;34m[\u001b[0m\u001b[0;34m'serviceItemId'\u001b[0m\u001b[0;34m]\u001b[0m\u001b[0;34m)\u001b[0m\u001b[0;34m\u001b[0m\u001b[0;34m\u001b[0m\u001b[0m\n\u001b[1;32m   8779\u001b[0m         \u001b[0;32melse\u001b[0m\u001b[0;34m:\u001b[0m\u001b[0;34m\u001b[0m\u001b[0;34m\u001b[0m\u001b[0m\n\u001b[0;32m-> 8780\u001b[0;31m             \u001b[0mserviceitem_id\u001b[0m \u001b[0;34m=\u001b[0m \u001b[0mself\u001b[0m\u001b[0;34m.\u001b[0m\u001b[0m_check_publish_status\u001b[0m\u001b[0;34m(\u001b[0m\u001b[0mret\u001b[0m\u001b[0;34m,\u001b[0m \u001b[0mfolder\u001b[0m\u001b[0;34m)\u001b[0m\u001b[0;34m\u001b[0m\u001b[0;34m\u001b[0m\u001b[0m\n\u001b[0m\u001b[1;32m   8781\u001b[0m         \u001b[0;32mreturn\u001b[0m \u001b[0mItem\u001b[0m\u001b[0;34m(\u001b[0m\u001b[0mself\u001b[0m\u001b[0;34m.\u001b[0m\u001b[0m_gis\u001b[0m\u001b[0;34m,\u001b[0m \u001b[0mserviceitem_id\u001b[0m\u001b[0;34m)\u001b[0m\u001b[0;34m\u001b[0m\u001b[0;34m\u001b[0m\u001b[0m\n\u001b[1;32m   8782\u001b[0m \u001b[0;34m\u001b[0m\u001b[0m\n",
      "\u001b[0;32m/opt/conda/lib/python3.7/site-packages/arcgis/gis/__init__.py\u001b[0m in \u001b[0;36m_check_publish_status\u001b[0;34m(self, ret, folder)\u001b[0m\n\u001b[1;32m   9005\u001b[0m                     \u001b[0;31m#print(str(job_response))\u001b[0m\u001b[0;34m\u001b[0m\u001b[0;34m\u001b[0m\u001b[0;34m\u001b[0m\u001b[0m\n\u001b[1;32m   9006\u001b[0m                     \u001b[0;32mif\u001b[0m \u001b[0mjob_response\u001b[0m\u001b[0;34m.\u001b[0m\u001b[0mget\u001b[0m\u001b[0;34m(\u001b[0m\u001b[0;34m\"status\"\u001b[0m\u001b[0;34m)\u001b[0m \u001b[0;32min\u001b[0m \u001b[0;34m(\u001b[0m\u001b[0;34m\"esriJobFailed\"\u001b[0m\u001b[0;34m,\u001b[0m\u001b[0;34m\"failed\"\u001b[0m\u001b[0;34m)\u001b[0m\u001b[0;34m:\u001b[0m\u001b[0;34m\u001b[0m\u001b[0;34m\u001b[0m\u001b[0m\n\u001b[0;32m-> 9007\u001b[0;31m                         \u001b[0;32mraise\u001b[0m \u001b[0mException\u001b[0m\u001b[0;34m(\u001b[0m\u001b[0;34m\"Job failed.\"\u001b[0m\u001b[0;34m)\u001b[0m\u001b[0;34m\u001b[0m\u001b[0;34m\u001b[0m\u001b[0m\n\u001b[0m\u001b[1;32m   9008\u001b[0m                     \u001b[0;32melif\u001b[0m \u001b[0mjob_response\u001b[0m\u001b[0;34m.\u001b[0m\u001b[0mget\u001b[0m\u001b[0;34m(\u001b[0m\u001b[0;34m\"status\"\u001b[0m\u001b[0;34m)\u001b[0m \u001b[0;34m==\u001b[0m \u001b[0;34m\"esriJobCancelled\"\u001b[0m\u001b[0;34m:\u001b[0m\u001b[0;34m\u001b[0m\u001b[0;34m\u001b[0m\u001b[0m\n\u001b[1;32m   9009\u001b[0m                         \u001b[0;32mraise\u001b[0m \u001b[0mException\u001b[0m\u001b[0;34m(\u001b[0m\u001b[0;34m\"Job cancelled.\"\u001b[0m\u001b[0;34m)\u001b[0m\u001b[0;34m\u001b[0m\u001b[0;34m\u001b[0m\u001b[0m\n",
      "\u001b[0;31mException\u001b[0m: Job failed."
     ]
    }
   ],
   "source": [
    "#Not sure why this won't work\n",
    "#sdf_Substations.spatial.to_featurelayer(title=\"Substations\",tags = \"ENV790, EV Charger, NREL\")\n"
   ]
  }
 ],
 "metadata": {
  "kernelspec": {
   "display_name": "Python 3",
   "language": "python",
   "name": "python3"
  },
  "language_info": {
   "codemirror_mode": {
    "name": "ipython",
    "version": 3
   },
   "file_extension": ".py",
   "mimetype": "text/x-python",
   "name": "python",
   "nbconvert_exporter": "python",
   "pygments_lexer": "ipython3",
   "version": "3.7.3"
  }
 },
 "nbformat": 4,
 "nbformat_minor": 2
}
