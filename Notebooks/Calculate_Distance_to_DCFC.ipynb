{
 "cells": [
  {
   "cell_type": "code",
   "execution_count": 2,
   "metadata": {},
   "outputs": [],
   "source": [
    "#import packages\n",
    "import pandas as pd\n",
    "import geopandas as gpd\n",
    "from shapely.geometry import Point\n",
    "from shapely.ops import nearest_points"
   ]
  },
  {
   "cell_type": "markdown",
   "metadata": {},
   "source": [
    "#### Import Data"
   ]
  },
  {
   "cell_type": "code",
   "execution_count": 57,
   "metadata": {},
   "outputs": [],
   "source": [
    "#Import exits\n",
    "exits_gdf = gpd.read_file('../Data/MJBA/Exits.shp')"
   ]
  },
  {
   "cell_type": "code",
   "execution_count": 13,
   "metadata": {},
   "outputs": [
    {
     "data": {
      "text/plain": [
       "<matplotlib.axes._subplots.AxesSubplot at 0x7ff9d32cba58>"
      ]
     },
     "execution_count": 13,
     "metadata": {},
     "output_type": "execute_result"
    },
    {
     "data": {
      "image/png": "[encoded data removed]",
      "text/plain": [
       "<Figure size 432x288 with 1 Axes>"
      ]
     },
     "metadata": {
      "needs_background": "light"
     },
     "output_type": "display_data"
    }
   ],
   "source": [
    "exits_gdf.plot()"
   ]
  },
  {
   "cell_type": "code",
   "execution_count": 29,
   "metadata": {},
   "outputs": [],
   "source": [
    "#Import dcfc as pandas dataframe\n",
    "dcfc_df = pd.read_csv('../Data/NREL/DCFC.csv')\n",
    "dcfc_df.head()\n",
    "dcfc_df.shape\n",
    "dcfc_df = dcfc_df[0:68]"
   ]
  },
  {
   "cell_type": "code",
   "execution_count": 30,
   "metadata": {},
   "outputs": [],
   "source": [
    "coordinates = []\n",
    "thelats = dcfc_df['latitude']\n",
    "thelongs = dcfc_df['longitude']"
   ]
  },
  {
   "cell_type": "code",
   "execution_count": 31,
   "metadata": {},
   "outputs": [
    {
     "data": {
      "text/plain": [
       "68"
      ]
     },
     "execution_count": 31,
     "metadata": {},
     "output_type": "execute_result"
    }
   ],
   "source": [
    "len(thelats)"
   ]
  },
  {
   "cell_type": "code",
   "execution_count": 32,
   "metadata": {},
   "outputs": [
    {
     "data": {
      "text/plain": [
       "68"
      ]
     },
     "execution_count": 32,
     "metadata": {},
     "output_type": "execute_result"
    }
   ],
   "source": [
    "len(thelongs)"
   ]
  },
  {
   "cell_type": "code",
   "execution_count": 34,
   "metadata": {},
   "outputs": [
    {
     "data": {
      "text/plain": [
       "(35.392063, -80.622777)"
      ]
     },
     "execution_count": 34,
     "metadata": {},
     "output_type": "execute_result"
    }
   ],
   "source": [
    "thelats[0], thelongs[0]"
   ]
  },
  {
   "cell_type": "code",
   "execution_count": 42,
   "metadata": {},
   "outputs": [
    {
     "data": {
      "text/plain": [
       "zip"
      ]
     },
     "execution_count": 42,
     "metadata": {},
     "output_type": "execute_result"
    }
   ],
   "source": [
    "theZip = zip(thelongs,thelats)\n",
    "type(theZip)"
   ]
  },
  {
   "cell_type": "code",
   "execution_count": 44,
   "metadata": {},
   "outputs": [],
   "source": [
    "geometry = []\n",
    "for x in theZip:\n",
    "    geometry.append(Point(x))"
   ]
  },
  {
   "cell_type": "code",
   "execution_count": 45,
   "metadata": {},
   "outputs": [
    {
     "data": {
      "text/plain": [
       "[<shapely.geometry.point.Point at 0x7ff9d123e6d8>,\n",
       " <shapely.geometry.point.Point at 0x7ff9d127a5f8>,\n",
       " <shapely.geometry.point.Point at 0x7ff9d4084438>,\n",
       " <shapely.geometry.point.Point at 0x7ff9d4084240>,\n",
       " <shapely.geometry.point.Point at 0x7ff9d4084668>,\n",
       " <shapely.geometry.point.Point at 0x7ff9d32cb748>,\n",
       " <shapely.geometry.point.Point at 0x7ff9d124a160>,\n",
       " <shapely.geometry.point.Point at 0x7ff9d124a358>,\n",
       " <shapely.geometry.point.Point at 0x7ff9d124afd0>,\n",
       " <shapely.geometry.point.Point at 0x7ff9d122d588>,\n",
       " <shapely.geometry.point.Point at 0x7ff9d123e828>,\n",
       " <shapely.geometry.point.Point at 0x7ff9d124a4e0>,\n",
       " <shapely.geometry.point.Point at 0x7ff9d124a518>,\n",
       " <shapely.geometry.point.Point at 0x7ff9d124a6d8>,\n",
       " <shapely.geometry.point.Point at 0x7ffa006df4a8>,\n",
       " <shapely.geometry.point.Point at 0x7ffa006df470>,\n",
       " <shapely.geometry.point.Point at 0x7ff9d34d0e48>,\n",
       " <shapely.geometry.point.Point at 0x7ff9d34d0dd8>,\n",
       " <shapely.geometry.point.Point at 0x7ff9d37f0e80>,\n",
       " <shapely.geometry.point.Point at 0x7ff9d1220588>,\n",
       " <shapely.geometry.point.Point at 0x7ff9d12205c0>,\n",
       " <shapely.geometry.point.Point at 0x7ff9d1220780>,\n",
       " <shapely.geometry.point.Point at 0x7ff9d1220438>,\n",
       " <shapely.geometry.point.Point at 0x7ff9d1220208>,\n",
       " <shapely.geometry.point.Point at 0x7ff9d1220278>,\n",
       " <shapely.geometry.point.Point at 0x7ff9d12206d8>,\n",
       " <shapely.geometry.point.Point at 0x7ff9d12203c8>,\n",
       " <shapely.geometry.point.Point at 0x7ff9d1220390>,\n",
       " <shapely.geometry.point.Point at 0x7ff9d1220400>,\n",
       " <shapely.geometry.point.Point at 0x7ff9d1220470>,\n",
       " <shapely.geometry.point.Point at 0x7ff9d1220518>,\n",
       " <shapely.geometry.point.Point at 0x7ff9d1220128>,\n",
       " <shapely.geometry.point.Point at 0x7ff9d12204a8>,\n",
       " <shapely.geometry.point.Point at 0x7ff9d12204e0>,\n",
       " <shapely.geometry.point.Point at 0x7ff9d12202b0>,\n",
       " <shapely.geometry.point.Point at 0x7ff9d1220748>,\n",
       " <shapely.geometry.point.Point at 0x7ff9d1220630>,\n",
       " <shapely.geometry.point.Point at 0x7ff9d12201d0>,\n",
       " <shapely.geometry.point.Point at 0x7ff9d1220198>,\n",
       " <shapely.geometry.point.Point at 0x7ff9d12200b8>,\n",
       " <shapely.geometry.point.Point at 0x7ff9d12200f0>,\n",
       " <shapely.geometry.point.Point at 0x7ff9d1220710>,\n",
       " <shapely.geometry.point.Point at 0x7ff9d1220668>,\n",
       " <shapely.geometry.point.Point at 0x7ff9d12207b8>,\n",
       " <shapely.geometry.point.Point at 0x7ff9d12207f0>,\n",
       " <shapely.geometry.point.Point at 0x7ff9d1220828>,\n",
       " <shapely.geometry.point.Point at 0x7ff9d1220860>,\n",
       " <shapely.geometry.point.Point at 0x7ff9d1220898>,\n",
       " <shapely.geometry.point.Point at 0x7ff9d12208d0>,\n",
       " <shapely.geometry.point.Point at 0x7ff9d1220908>,\n",
       " <shapely.geometry.point.Point at 0x7ff9d1220940>,\n",
       " <shapely.geometry.point.Point at 0x7ff9d1220978>,\n",
       " <shapely.geometry.point.Point at 0x7ff9d12209b0>,\n",
       " <shapely.geometry.point.Point at 0x7ff9d12209e8>,\n",
       " <shapely.geometry.point.Point at 0x7ff9d1220a20>,\n",
       " <shapely.geometry.point.Point at 0x7ff9d1220a58>,\n",
       " <shapely.geometry.point.Point at 0x7ff9d1220a90>,\n",
       " <shapely.geometry.point.Point at 0x7ff9d1220ac8>,\n",
       " <shapely.geometry.point.Point at 0x7ff9d1220b00>,\n",
       " <shapely.geometry.point.Point at 0x7ff9d1220b38>,\n",
       " <shapely.geometry.point.Point at 0x7ff9d1220b70>,\n",
       " <shapely.geometry.point.Point at 0x7ff9d1220ba8>,\n",
       " <shapely.geometry.point.Point at 0x7ff9d1220be0>,\n",
       " <shapely.geometry.point.Point at 0x7ff9d1220c18>,\n",
       " <shapely.geometry.point.Point at 0x7ff9d1220c50>,\n",
       " <shapely.geometry.point.Point at 0x7ff9d1220c88>,\n",
       " <shapely.geometry.point.Point at 0x7ff9d1220cc0>]"
      ]
     },
     "execution_count": 45,
     "metadata": {},
     "output_type": "execute_result"
    }
   ],
   "source": [
    "geometry"
   ]
  },
  {
   "cell_type": "code",
   "execution_count": 47,
   "metadata": {},
   "outputs": [],
   "source": [
    "#Create geometries for dcfc features\n",
    "geometry = [Point(xy) for xy in zip(dcfc_df['longitude'],dcfc_df['latitude'])]"
   ]
  },
  {
   "cell_type": "code",
   "execution_count": 55,
   "metadata": {},
   "outputs": [],
   "source": [
    "#create the geopandas geodataframe from above\n",
    "dcfc_gdf = gpd.GeoDataFrame(dcfc_df, geometry=geometry,crs=4326)"
   ]
  },
  {
   "cell_type": "code",
   "execution_count": 53,
   "metadata": {},
   "outputs": [
    {
     "data": {
      "text/plain": [
       "<matplotlib.axes._subplots.AxesSubplot at 0x7ff9d1227278>"
      ]
     },
     "execution_count": 53,
     "metadata": {},
     "output_type": "execute_result"
    },
    {
     "data": {
      "image/png": "[encoded data removed]",
      "text/plain": [
       "<Figure size 432x288 with 1 Axes>"
      ]
     },
     "metadata": {
      "needs_background": "light"
     },
     "output_type": "display_data"
    }
   ],
   "source": [
    "dcfc_gpd.plot()"
   ]
  },
  {
   "cell_type": "markdown",
   "metadata": {},
   "source": [
    "#### Coordinate Reference Systems"
   ]
  },
  {
   "cell_type": "code",
   "execution_count": 59,
   "metadata": {},
   "outputs": [
    {
     "name": "stdout",
     "output_type": "stream",
     "text": [
      "epsg:4326\n",
      "epsg:4326\n"
     ]
    }
   ],
   "source": [
    "#show current crs\n",
    "print(exits_gdf.crs)\n",
    "print(dcfc_gdf.crs)"
   ]
  },
  {
   "cell_type": "code",
   "execution_count": 80,
   "metadata": {},
   "outputs": [],
   "source": [
    "exits_gdf = exits_gdf.to_crs(32617)\n",
    "dcfc_gdf=dcfc_gdf.to_crs(32617)"
   ]
  },
  {
   "cell_type": "code",
   "execution_count": 62,
   "metadata": {},
   "outputs": [
    {
     "data": {
      "text/plain": [
       "<matplotlib.axes._subplots.AxesSubplot at 0x7ff9d1209710>"
      ]
     },
     "execution_count": 62,
     "metadata": {},
     "output_type": "execute_result"
    },
    {
     "data": {
      "image/png": "[encoded data removed]",
      "text/plain": [
       "<Figure size 432x288 with 1 Axes>"
      ]
     },
     "metadata": {
      "needs_background": "light"
     },
     "output_type": "display_data"
    }
   ],
   "source": [
    "exits_gdf.plot()"
   ]
  },
  {
   "cell_type": "code",
   "execution_count": 63,
   "metadata": {},
   "outputs": [
    {
     "data": {
      "text/plain": [
       "<matplotlib.axes._subplots.AxesSubplot at 0x7ff9d0f1d940>"
      ]
     },
     "execution_count": 63,
     "metadata": {},
     "output_type": "execute_result"
    },
    {
     "data": {
      "image/png": "[encoded data removed]",
      "text/plain": [
       "<Figure size 432x288 with 1 Axes>"
      ]
     },
     "metadata": {
      "needs_background": "light"
     },
     "output_type": "display_data"
    }
   ],
   "source": [
    "dcfc_gdf.plot()"
   ]
  },
  {
   "cell_type": "markdown",
   "metadata": {},
   "source": [
    "#### Compute Nearest Points"
   ]
  },
  {
   "cell_type": "code",
   "execution_count": 66,
   "metadata": {},
   "outputs": [
    {
     "data": {
      "text/plain": [
       "shapely.geometry.multipoint.MultiPoint"
      ]
     },
     "execution_count": 66,
     "metadata": {},
     "output_type": "execute_result"
    }
   ],
   "source": [
    "mp_dcfc = dcfc_gdf.geometry.unary_union\n",
    "type(mp_dcfc)"
   ]
  },
  {
   "cell_type": "code",
   "execution_count": 67,
   "metadata": {},
   "outputs": [
    {
     "name": "stdout",
     "output_type": "stream",
     "text": [
      "POINT (197578.0117120936 3880227.389321998)\n"
     ]
    }
   ],
   "source": [
    "theExitPoint = exits_gdf.at[0,'geometry']\n",
    "print(theExitPoint)"
   ]
  },
  {
   "cell_type": "code",
   "execution_count": 69,
   "metadata": {},
   "outputs": [],
   "source": [
    "fromPt, toPt = nearest_points(theExitPoint, mp_dcfc)"
   ]
  },
  {
   "cell_type": "code",
   "execution_count": 71,
   "metadata": {},
   "outputs": [
    {
     "name": "stdout",
     "output_type": "stream",
     "text": [
      "POINT (354769.6046992752 3932953.218764007)\n"
     ]
    }
   ],
   "source": [
    "print(toPt)"
   ]
  },
  {
   "cell_type": "code",
   "execution_count": 72,
   "metadata": {},
   "outputs": [
    {
     "data": {
      "text/plain": [
       "165798.70324039215"
      ]
     },
     "execution_count": 72,
     "metadata": {},
     "output_type": "execute_result"
    }
   ],
   "source": [
    "fromPt.distance(toPt)"
   ]
  },
  {
   "cell_type": "code",
   "execution_count": 75,
   "metadata": {},
   "outputs": [],
   "source": [
    "def distance_to_dcfc(thePoint,mp_dcfc):\n",
    "    fromPt, toPt = nearest_points(thePoint, mp_dcfc)\n",
    "    theDistance = fromPt.distance(toPt)\n",
    "    return theDistance"
   ]
  },
  {
   "cell_type": "code",
   "execution_count": 84,
   "metadata": {},
   "outputs": [],
   "source": [
    "theDistances = exits_gdf['geometry'].apply(lambda x: distance_to_dcfc(x,mp_dcfc))"
   ]
  },
  {
   "cell_type": "code",
   "execution_count": 86,
   "metadata": {},
   "outputs": [],
   "source": [
    "exits_gdf['Dist_to_DCFC'] = theDistances"
   ]
  },
  {
   "cell_type": "code",
   "execution_count": 87,
   "metadata": {},
   "outputs": [
    {
     "data": {
      "text/html": [
       "<div>\n",
       "<style scoped>\n",
       "    .dataframe tbody tr th:only-of-type {\n",
       "        vertical-align: middle;\n",
       "    }\n",
       "\n",
       "    .dataframe tbody tr th {\n",
       "        vertical-align: top;\n",
       "    }\n",
       "\n",
       "    .dataframe thead th {\n",
       "        text-align: right;\n",
       "    }\n",
       "</style>\n",
       "<table border=\"1\" class=\"dataframe\">\n",
       "  <thead>\n",
       "    <tr style=\"text-align: right;\">\n",
       "      <th></th>\n",
       "      <th>FID</th>\n",
       "      <th>Exit_ID</th>\n",
       "      <th>Longitude</th>\n",
       "      <th>Latitude</th>\n",
       "      <th>County</th>\n",
       "      <th>State</th>\n",
       "      <th>Highway</th>\n",
       "      <th>Type</th>\n",
       "      <th>AADT</th>\n",
       "      <th>Pop_dens</th>\n",
       "      <th>Comm_1mi</th>\n",
       "      <th>Ports_5mi</th>\n",
       "      <th>Ports_10mi</th>\n",
       "      <th>Ports_20mi</th>\n",
       "      <th>Close_nonT</th>\n",
       "      <th>geometry</th>\n",
       "      <th>Dist_to_DCFC</th>\n",
       "    </tr>\n",
       "  </thead>\n",
       "  <tbody>\n",
       "    <tr>\n",
       "      <th>0</th>\n",
       "      <td>7059</td>\n",
       "      <td>US-64_Cherokee_NC_Exit_1</td>\n",
       "      <td>-84.314304</td>\n",
       "      <td>35.019492</td>\n",
       "      <td>Cherokee</td>\n",
       "      <td>NC</td>\n",
       "      <td>U.S. Highway 64</td>\n",
       "      <td>Exit/Intersection</td>\n",
       "      <td>3700</td>\n",
       "      <td>60.34979</td>\n",
       "      <td>1</td>\n",
       "      <td>0</td>\n",
       "      <td>0</td>\n",
       "      <td>0</td>\n",
       "      <td>34.094152</td>\n",
       "      <td>POINT (197578.012 3880227.389)</td>\n",
       "      <td>165798.703240</td>\n",
       "    </tr>\n",
       "    <tr>\n",
       "      <th>1</th>\n",
       "      <td>7060</td>\n",
       "      <td>US-64_Cherokee_NC_Exit_2</td>\n",
       "      <td>-84.311492</td>\n",
       "      <td>35.014933</td>\n",
       "      <td>Cherokee</td>\n",
       "      <td>NC</td>\n",
       "      <td>U.S. Highway 64</td>\n",
       "      <td>Exit/Intersection</td>\n",
       "      <td>3700</td>\n",
       "      <td>60.34979</td>\n",
       "      <td>1</td>\n",
       "      <td>0</td>\n",
       "      <td>0</td>\n",
       "      <td>0</td>\n",
       "      <td>34.365230</td>\n",
       "      <td>POINT (197817.907 3879713.054)</td>\n",
       "      <td>165735.785722</td>\n",
       "    </tr>\n",
       "    <tr>\n",
       "      <th>2</th>\n",
       "      <td>7061</td>\n",
       "      <td>US-64_Cherokee_NC_Exit_3</td>\n",
       "      <td>-84.295528</td>\n",
       "      <td>35.013561</td>\n",
       "      <td>Cherokee</td>\n",
       "      <td>NC</td>\n",
       "      <td>U.S. Highway 64</td>\n",
       "      <td>Exit/Intersection</td>\n",
       "      <td>3900</td>\n",
       "      <td>60.34979</td>\n",
       "      <td>0</td>\n",
       "      <td>0</td>\n",
       "      <td>0</td>\n",
       "      <td>0</td>\n",
       "      <td>35.233979</td>\n",
       "      <td>POINT (199270.172 3879512.464)</td>\n",
       "      <td>164426.238471</td>\n",
       "    </tr>\n",
       "    <tr>\n",
       "      <th>3</th>\n",
       "      <td>7062</td>\n",
       "      <td>US-64_Cherokee_NC_Exit_4</td>\n",
       "      <td>-84.280291</td>\n",
       "      <td>35.012880</td>\n",
       "      <td>Cherokee</td>\n",
       "      <td>NC</td>\n",
       "      <td>U.S. Highway 64</td>\n",
       "      <td>Exit/Intersection</td>\n",
       "      <td>3900</td>\n",
       "      <td>60.34979</td>\n",
       "      <td>0</td>\n",
       "      <td>0</td>\n",
       "      <td>0</td>\n",
       "      <td>0</td>\n",
       "      <td>36.048303</td>\n",
       "      <td>POINT (200658.638 3879391.092)</td>\n",
       "      <td>163153.582530</td>\n",
       "    </tr>\n",
       "    <tr>\n",
       "      <th>4</th>\n",
       "      <td>7063</td>\n",
       "      <td>US-64_Cherokee_NC_Exit_5</td>\n",
       "      <td>-84.275190</td>\n",
       "      <td>35.017816</td>\n",
       "      <td>Cherokee</td>\n",
       "      <td>NC</td>\n",
       "      <td>U.S. Highway 64</td>\n",
       "      <td>Exit/Intersection</td>\n",
       "      <td>3900</td>\n",
       "      <td>60.34979</td>\n",
       "      <td>0</td>\n",
       "      <td>0</td>\n",
       "      <td>0</td>\n",
       "      <td>0</td>\n",
       "      <td>36.186597</td>\n",
       "      <td>POINT (201142.266 3879923.503)</td>\n",
       "      <td>162522.336504</td>\n",
       "    </tr>\n",
       "  </tbody>\n",
       "</table>\n",
       "</div>"
      ],
      "text/plain": [
       "    FID                   Exit_ID  Longitude   Latitude    County State  \\\n",
       "0  7059  US-64_Cherokee_NC_Exit_1 -84.314304  35.019492  Cherokee    NC   \n",
       "1  7060  US-64_Cherokee_NC_Exit_2 -84.311492  35.014933  Cherokee    NC   \n",
       "2  7061  US-64_Cherokee_NC_Exit_3 -84.295528  35.013561  Cherokee    NC   \n",
       "3  7062  US-64_Cherokee_NC_Exit_4 -84.280291  35.012880  Cherokee    NC   \n",
       "4  7063  US-64_Cherokee_NC_Exit_5 -84.275190  35.017816  Cherokee    NC   \n",
       "\n",
       "           Highway               Type  AADT  Pop_dens  Comm_1mi  Ports_5mi  \\\n",
       "0  U.S. Highway 64  Exit/Intersection  3700  60.34979         1          0   \n",
       "1  U.S. Highway 64  Exit/Intersection  3700  60.34979         1          0   \n",
       "2  U.S. Highway 64  Exit/Intersection  3900  60.34979         0          0   \n",
       "3  U.S. Highway 64  Exit/Intersection  3900  60.34979         0          0   \n",
       "4  U.S. Highway 64  Exit/Intersection  3900  60.34979         0          0   \n",
       "\n",
       "   Ports_10mi  Ports_20mi  Close_nonT                        geometry  \\\n",
       "0           0           0   34.094152  POINT (197578.012 3880227.389)   \n",
       "1           0           0   34.365230  POINT (197817.907 3879713.054)   \n",
       "2           0           0   35.233979  POINT (199270.172 3879512.464)   \n",
       "3           0           0   36.048303  POINT (200658.638 3879391.092)   \n",
       "4           0           0   36.186597  POINT (201142.266 3879923.503)   \n",
       "\n",
       "    Dist_to_DCFC  \n",
       "0  165798.703240  \n",
       "1  165735.785722  \n",
       "2  164426.238471  \n",
       "3  163153.582530  \n",
       "4  162522.336504  "
      ]
     },
     "execution_count": 87,
     "metadata": {},
     "output_type": "execute_result"
    }
   ],
   "source": [
    "exits_gdf.head()"
   ]
  },
  {
   "cell_type": "code",
   "execution_count": 88,
   "metadata": {},
   "outputs": [],
   "source": [
    "exits_gdf.to_file('../Data/processed/Exits_distance_to_DCFC.shp')"
   ]
  },
  {
   "cell_type": "code",
   "execution_count": 94,
   "metadata": {},
   "outputs": [
    {
     "data": {
      "text/plain": [
       "<matplotlib.axes._subplots.AxesSubplot at 0x7ff9cf737cc0>"
      ]
     },
     "execution_count": 94,
     "metadata": {},
     "output_type": "execute_result"
    },
    {
     "data": {
      "image/png": "[encoded data removed]",
      "text/plain": [
       "<Figure size 864x432 with 1 Axes>"
      ]
     },
     "metadata": {
      "needs_background": "light"
     },
     "output_type": "display_data"
    }
   ],
   "source": [
    "ax = exits_gdf.plot('Dist_to_DCFC',figsize=(12,6))\n",
    "dcfc_gdf.plot(ax = ax, color='red')"
   ]
  },
  {
   "cell_type": "code",
   "execution_count": null,
   "metadata": {},
   "outputs": [],
   "source": []
  }
 ],
 "metadata": {
  "kernelspec": {
   "display_name": "Python 3",
   "language": "python",
   "name": "python3"
  },
  "language_info": {
   "codemirror_mode": {
    "name": "ipython",
    "version": 3
   },
   "file_extension": ".py",
   "mimetype": "text/x-python",
   "name": "python",
   "nbconvert_exporter": "python",
   "pygments_lexer": "ipython3",
   "version": "3.7.3"
  }
 },
 "nbformat": 4,
 "nbformat_minor": 2
}
